{
 "metadata": {
  "language_info": {
   "codemirror_mode": {
    "name": "ipython",
    "version": 3
   },
   "file_extension": ".py",
   "mimetype": "text/x-python",
   "name": "python",
   "nbconvert_exporter": "python",
   "pygments_lexer": "ipython3",
   "version": "3.7.9-final"
  },
  "orig_nbformat": 2,
  "kernelspec": {
   "name": "Python 3.7.9 64-bit",
   "display_name": "Python 3.7.9 64-bit",
   "metadata": {
    "interpreter": {
     "hash": "50e370d5dd3f98e6fae44c8e137c326c2d8550a4fbfbe00e37214df925a5ba1b"
    }
   }
  }
 },
 "nbformat": 4,
 "nbformat_minor": 2,
 "cells": [
  {
   "cell_type": "code",
   "execution_count": 1,
   "metadata": {},
   "outputs": [],
   "source": [
    "import pandas as pd\n",
    "import numpy as np \n",
    "import seaborn as sns\n",
    "import matplotlib.pyplot as plt\n",
    "%matplotlib inline  "
   ]
  },
  {
   "cell_type": "code",
   "execution_count": 2,
   "metadata": {},
   "outputs": [
    {
     "output_type": "execute_result",
     "data": {
      "text/plain": [
       "                      Created Date             Closed Date Complaint Type  \\\n",
       "Unique Key                                                                  \n",
       "15629728    01/01/2010 12:00:00 AM  01/12/2010 12:00:00 AM        HEATING   \n",
       "15629899    01/01/2010 12:00:00 AM  01/16/2010 12:00:00 AM       PLUMBING   \n",
       "15630099    01/01/2010 12:00:00 AM  01/01/2010 12:00:00 AM        HEATING   \n",
       "15630315    01/01/2010 12:00:00 AM  01/16/2010 12:00:00 AM       PLUMBING   \n",
       "15630431    01/01/2010 12:00:00 AM  01/02/2010 12:00:00 AM        HEATING   \n",
       "\n",
       "                   Location Type  Incident Zip      Incident Address  \\\n",
       "Unique Key                                                             \n",
       "15629728    RESIDENTIAL BUILDING       11210.0    3101 FOSTER AVENUE   \n",
       "15629899    RESIDENTIAL BUILDING       11106.0       31-54 29 STREET   \n",
       "15630099    RESIDENTIAL BUILDING       10466.0  1405 EAST 233 STREET   \n",
       "15630315    RESIDENTIAL BUILDING       11106.0       31-54 29 STREET   \n",
       "15630431    RESIDENTIAL BUILDING       11226.0    22 MARTENSE STREET   \n",
       "\n",
       "                Street Name Address Type      City  Status  \\\n",
       "Unique Key                                                   \n",
       "15629728      FOSTER AVENUE      ADDRESS  BROOKLYN  Closed   \n",
       "15629899          29 STREET      ADDRESS   ASTORIA  Closed   \n",
       "15630099    EAST 233 STREET      ADDRESS     BRONX  Closed   \n",
       "15630315          29 STREET      ADDRESS   ASTORIA  Closed   \n",
       "15630431    MARTENSE STREET      ADDRESS  BROOKLYN  Closed   \n",
       "\n",
       "                                       Resolution Description      Borough  \\\n",
       "Unique Key                                                                   \n",
       "15629728    The Department of Housing Preservation and Dev...  Unspecified   \n",
       "15629899    The Department of Housing Preservation and Dev...  Unspecified   \n",
       "15630099    The Department of Housing Preservation and Dev...  Unspecified   \n",
       "15630315    The Department of Housing Preservation and Dev...  Unspecified   \n",
       "15630431    More than one complaint was received for this ...  Unspecified   \n",
       "\n",
       "             Latitude  Longitude  \n",
       "Unique Key                        \n",
       "15629728    40.638696 -73.946969  \n",
       "15629899    40.764035 -73.925935  \n",
       "15630099    40.888997 -73.836192  \n",
       "15630315    40.764035 -73.925935  \n",
       "15630431    40.651236 -73.958293  "
      ],
      "text/html": "<div>\n<style scoped>\n    .dataframe tbody tr th:only-of-type {\n        vertical-align: middle;\n    }\n\n    .dataframe tbody tr th {\n        vertical-align: top;\n    }\n\n    .dataframe thead th {\n        text-align: right;\n    }\n</style>\n<table border=\"1\" class=\"dataframe\">\n  <thead>\n    <tr style=\"text-align: right;\">\n      <th></th>\n      <th>Created Date</th>\n      <th>Closed Date</th>\n      <th>Complaint Type</th>\n      <th>Location Type</th>\n      <th>Incident Zip</th>\n      <th>Incident Address</th>\n      <th>Street Name</th>\n      <th>Address Type</th>\n      <th>City</th>\n      <th>Status</th>\n      <th>Resolution Description</th>\n      <th>Borough</th>\n      <th>Latitude</th>\n      <th>Longitude</th>\n    </tr>\n    <tr>\n      <th>Unique Key</th>\n      <th></th>\n      <th></th>\n      <th></th>\n      <th></th>\n      <th></th>\n      <th></th>\n      <th></th>\n      <th></th>\n      <th></th>\n      <th></th>\n      <th></th>\n      <th></th>\n      <th></th>\n      <th></th>\n    </tr>\n  </thead>\n  <tbody>\n    <tr>\n      <th>15629728</th>\n      <td>01/01/2010 12:00:00 AM</td>\n      <td>01/12/2010 12:00:00 AM</td>\n      <td>HEATING</td>\n      <td>RESIDENTIAL BUILDING</td>\n      <td>11210.0</td>\n      <td>3101 FOSTER AVENUE</td>\n      <td>FOSTER AVENUE</td>\n      <td>ADDRESS</td>\n      <td>BROOKLYN</td>\n      <td>Closed</td>\n      <td>The Department of Housing Preservation and Dev...</td>\n      <td>Unspecified</td>\n      <td>40.638696</td>\n      <td>-73.946969</td>\n    </tr>\n    <tr>\n      <th>15629899</th>\n      <td>01/01/2010 12:00:00 AM</td>\n      <td>01/16/2010 12:00:00 AM</td>\n      <td>PLUMBING</td>\n      <td>RESIDENTIAL BUILDING</td>\n      <td>11106.0</td>\n      <td>31-54 29 STREET</td>\n      <td>29 STREET</td>\n      <td>ADDRESS</td>\n      <td>ASTORIA</td>\n      <td>Closed</td>\n      <td>The Department of Housing Preservation and Dev...</td>\n      <td>Unspecified</td>\n      <td>40.764035</td>\n      <td>-73.925935</td>\n    </tr>\n    <tr>\n      <th>15630099</th>\n      <td>01/01/2010 12:00:00 AM</td>\n      <td>01/01/2010 12:00:00 AM</td>\n      <td>HEATING</td>\n      <td>RESIDENTIAL BUILDING</td>\n      <td>10466.0</td>\n      <td>1405 EAST 233 STREET</td>\n      <td>EAST 233 STREET</td>\n      <td>ADDRESS</td>\n      <td>BRONX</td>\n      <td>Closed</td>\n      <td>The Department of Housing Preservation and Dev...</td>\n      <td>Unspecified</td>\n      <td>40.888997</td>\n      <td>-73.836192</td>\n    </tr>\n    <tr>\n      <th>15630315</th>\n      <td>01/01/2010 12:00:00 AM</td>\n      <td>01/16/2010 12:00:00 AM</td>\n      <td>PLUMBING</td>\n      <td>RESIDENTIAL BUILDING</td>\n      <td>11106.0</td>\n      <td>31-54 29 STREET</td>\n      <td>29 STREET</td>\n      <td>ADDRESS</td>\n      <td>ASTORIA</td>\n      <td>Closed</td>\n      <td>The Department of Housing Preservation and Dev...</td>\n      <td>Unspecified</td>\n      <td>40.764035</td>\n      <td>-73.925935</td>\n    </tr>\n    <tr>\n      <th>15630431</th>\n      <td>01/01/2010 12:00:00 AM</td>\n      <td>01/02/2010 12:00:00 AM</td>\n      <td>HEATING</td>\n      <td>RESIDENTIAL BUILDING</td>\n      <td>11226.0</td>\n      <td>22 MARTENSE STREET</td>\n      <td>MARTENSE STREET</td>\n      <td>ADDRESS</td>\n      <td>BROOKLYN</td>\n      <td>Closed</td>\n      <td>More than one complaint was received for this ...</td>\n      <td>Unspecified</td>\n      <td>40.651236</td>\n      <td>-73.958293</td>\n    </tr>\n  </tbody>\n</table>\n</div>"
     },
     "metadata": {},
     "execution_count": 2
    }
   ],
   "source": [
    "NY311_df = pd.read_csv(\"311_Service_Requests_from_2010_to_Present_min.csv\")\n",
    "NY311_df.drop(\"Unnamed: 0\", axis =1, inplace=True)\n",
    "NY311_df.set_index(\"Unique Key\", inplace=True)\n",
    "NY311_df.sort_index(inplace=True)\n",
    "NY311_df.head()"
   ]
  },
  {
   "cell_type": "code",
   "execution_count": 3,
   "metadata": {},
   "outputs": [
    {
     "output_type": "stream",
     "name": "stdout",
     "text": [
      "(6019843, 14)\nNumber of Complaints: 6019843\n"
     ]
    }
   ],
   "source": [
    "print(NY311_df.shape)\n",
    "print(\"Number of Complaints:\", NY311_df.shape[0])"
   ]
  },
  {
   "cell_type": "code",
   "execution_count": 4,
   "metadata": {},
   "outputs": [
    {
     "output_type": "stream",
     "name": "stdout",
     "text": [
      "<class 'pandas.core.frame.DataFrame'>\nInt64Index: 6019843 entries, 15629728 to 45532043\nData columns (total 14 columns):\n #   Column                  Dtype  \n---  ------                  -----  \n 0   Created Date            object \n 1   Closed Date             object \n 2   Complaint Type          object \n 3   Location Type           object \n 4   Incident Zip            float64\n 5   Incident Address        object \n 6   Street Name             object \n 7   Address Type            object \n 8   City                    object \n 9   Status                  object \n 10  Resolution Description  object \n 11  Borough                 object \n 12  Latitude                float64\n 13  Longitude               float64\ndtypes: float64(3), object(11)\nmemory usage: 688.9+ MB\n"
     ]
    }
   ],
   "source": [
    "NY311_df.info()"
   ]
  },
  {
   "cell_type": "code",
   "execution_count": 5,
   "metadata": {},
   "outputs": [
    {
     "output_type": "execute_result",
     "data": {
      "text/plain": [
       "Index(['Created Date', 'Closed Date', 'Complaint Type', 'Location Type',\n",
       "       'Incident Zip', 'Incident Address', 'Street Name', 'Address Type',\n",
       "       'City', 'Status', 'Resolution Description', 'Borough', 'Latitude',\n",
       "       'Longitude'],\n",
       "      dtype='object')"
      ]
     },
     "metadata": {},
     "execution_count": 5
    }
   ],
   "source": [
    "NY311_df.columns"
   ]
  },
  {
   "cell_type": "code",
   "execution_count": 6,
   "metadata": {},
   "outputs": [
    {
     "output_type": "stream",
     "name": "stdout",
     "text": [
      "<class 'pandas.core.frame.DataFrame'>\nInt64Index: 6019843 entries, 15629728 to 45532043\nData columns (total 14 columns):\n #   Column                  Dtype         \n---  ------                  -----         \n 0   Created Date            datetime64[ns]\n 1   Closed Date             datetime64[ns]\n 2   Complaint Type          object        \n 3   Location Type           object        \n 4   Incident Zip            float64       \n 5   Incident Address        object        \n 6   Street Name             object        \n 7   Address Type            object        \n 8   City                    object        \n 9   Status                  object        \n 10  Resolution Description  object        \n 11  Borough                 object        \n 12  Latitude                float64       \n 13  Longitude               float64       \ndtypes: datetime64[ns](2), float64(3), object(9)\nmemory usage: 688.9+ MB\n"
     ]
    }
   ],
   "source": [
    "NY311_df[\"Created Date\"] = pd.to_datetime(NY311_df[\"Created Date\"], format=\"%m/%d/%Y %I:%M:%S %p\")\n",
    "NY311_df[\"Closed Date\"] = pd.to_datetime(NY311_df[\"Closed Date\"], format=\"%m/%d/%Y %I:%M:%S %p\")\n",
    "NY311_df.info()"
   ]
  },
  {
   "cell_type": "code",
   "execution_count": 7,
   "metadata": {},
   "outputs": [
    {
     "output_type": "execute_result",
     "data": {
      "text/plain": [
       "                  Created Date Closed Date  Complaint Type  \\\n",
       "Unique Key                                                   \n",
       "15629728   2010-01-01 00:00:00  2010-01-12         HEATING   \n",
       "15629899   2010-01-01 00:00:00  2010-01-16        PLUMBING   \n",
       "15630099   2010-01-01 00:00:00  2010-01-01         HEATING   \n",
       "15630315   2010-01-01 00:00:00  2010-01-16        PLUMBING   \n",
       "15630431   2010-01-01 00:00:00  2010-01-02         HEATING   \n",
       "...                        ...         ...             ...   \n",
       "45532039   2020-02-02 14:09:33         NaT  HEAT/HOT WATER   \n",
       "45532040   2020-02-02 23:37:42         NaT  HEAT/HOT WATER   \n",
       "45532041   2020-02-02 16:15:59         NaT  HEAT/HOT WATER   \n",
       "45532042   2020-02-02 17:57:23         NaT  HEAT/HOT WATER   \n",
       "45532043   2020-02-02 16:49:04         NaT  HEAT/HOT WATER   \n",
       "\n",
       "                   Location Type  Incident Zip             Incident Address  \\\n",
       "Unique Key                                                                    \n",
       "15629728    RESIDENTIAL BUILDING       11210.0           3101 FOSTER AVENUE   \n",
       "15629899    RESIDENTIAL BUILDING       11106.0              31-54 29 STREET   \n",
       "15630099    RESIDENTIAL BUILDING       10466.0         1405 EAST 233 STREET   \n",
       "15630315    RESIDENTIAL BUILDING       11106.0              31-54 29 STREET   \n",
       "15630431    RESIDENTIAL BUILDING       11226.0           22 MARTENSE STREET   \n",
       "...                          ...           ...                          ...   \n",
       "45532039    RESIDENTIAL BUILDING       11235.0        2750 HOMECREST AVENUE   \n",
       "45532040    RESIDENTIAL BUILDING       11214.0             8301 BAY PARKWAY   \n",
       "45532041    RESIDENTIAL BUILDING       10031.0                3675 BROADWAY   \n",
       "45532042    RESIDENTIAL BUILDING       10452.0  1441 EDWARD L GRANT HIGHWAY   \n",
       "45532043    RESIDENTIAL BUILDING       11214.0               1653 76 STREET   \n",
       "\n",
       "                       Street Name Address Type      City  Status  \\\n",
       "Unique Key                                                          \n",
       "15629728             FOSTER AVENUE      ADDRESS  BROOKLYN  Closed   \n",
       "15629899                 29 STREET      ADDRESS   ASTORIA  Closed   \n",
       "15630099           EAST 233 STREET      ADDRESS     BRONX  Closed   \n",
       "15630315                 29 STREET      ADDRESS   ASTORIA  Closed   \n",
       "15630431           MARTENSE STREET      ADDRESS  BROOKLYN  Closed   \n",
       "...                            ...          ...       ...     ...   \n",
       "45532039          HOMECREST AVENUE      ADDRESS  BROOKLYN    Open   \n",
       "45532040               BAY PARKWAY      ADDRESS  BROOKLYN    Open   \n",
       "45532041                  BROADWAY      ADDRESS  NEW YORK    Open   \n",
       "45532042    EDWARD L GRANT HIGHWAY      ADDRESS     BRONX    Open   \n",
       "45532043                 76 STREET      ADDRESS  BROOKLYN    Open   \n",
       "\n",
       "                                       Resolution Description      Borough  \\\n",
       "Unique Key                                                                   \n",
       "15629728    The Department of Housing Preservation and Dev...  Unspecified   \n",
       "15629899    The Department of Housing Preservation and Dev...  Unspecified   \n",
       "15630099    The Department of Housing Preservation and Dev...  Unspecified   \n",
       "15630315    The Department of Housing Preservation and Dev...  Unspecified   \n",
       "15630431    More than one complaint was received for this ...  Unspecified   \n",
       "...                                                       ...          ...   \n",
       "45532039    The following complaint conditions are still o...     BROOKLYN   \n",
       "45532040    The complaint you filed is a duplicate of a co...     BROOKLYN   \n",
       "45532041    The following complaint conditions are still o...    MANHATTAN   \n",
       "45532042    The complaint you filed is a duplicate of a co...        BRONX   \n",
       "45532043    The following complaint conditions are still o...     BROOKLYN   \n",
       "\n",
       "             Latitude  Longitude  \n",
       "Unique Key                        \n",
       "15629728    40.638696 -73.946969  \n",
       "15629899    40.764035 -73.925935  \n",
       "15630099    40.888997 -73.836192  \n",
       "15630315    40.764035 -73.925935  \n",
       "15630431    40.651236 -73.958293  \n",
       "...               ...        ...  \n",
       "45532039    40.584298 -73.956290  \n",
       "45532040    40.603561 -73.992117  \n",
       "45532041    40.830944 -73.947166  \n",
       "45532042    40.843188 -73.922963  \n",
       "45532043    40.614790 -73.999910  \n",
       "\n",
       "[6019843 rows x 14 columns]"
      ],
      "text/html": "<div>\n<style scoped>\n    .dataframe tbody tr th:only-of-type {\n        vertical-align: middle;\n    }\n\n    .dataframe tbody tr th {\n        vertical-align: top;\n    }\n\n    .dataframe thead th {\n        text-align: right;\n    }\n</style>\n<table border=\"1\" class=\"dataframe\">\n  <thead>\n    <tr style=\"text-align: right;\">\n      <th></th>\n      <th>Created Date</th>\n      <th>Closed Date</th>\n      <th>Complaint Type</th>\n      <th>Location Type</th>\n      <th>Incident Zip</th>\n      <th>Incident Address</th>\n      <th>Street Name</th>\n      <th>Address Type</th>\n      <th>City</th>\n      <th>Status</th>\n      <th>Resolution Description</th>\n      <th>Borough</th>\n      <th>Latitude</th>\n      <th>Longitude</th>\n    </tr>\n    <tr>\n      <th>Unique Key</th>\n      <th></th>\n      <th></th>\n      <th></th>\n      <th></th>\n      <th></th>\n      <th></th>\n      <th></th>\n      <th></th>\n      <th></th>\n      <th></th>\n      <th></th>\n      <th></th>\n      <th></th>\n      <th></th>\n    </tr>\n  </thead>\n  <tbody>\n    <tr>\n      <th>15629728</th>\n      <td>2010-01-01 00:00:00</td>\n      <td>2010-01-12</td>\n      <td>HEATING</td>\n      <td>RESIDENTIAL BUILDING</td>\n      <td>11210.0</td>\n      <td>3101 FOSTER AVENUE</td>\n      <td>FOSTER AVENUE</td>\n      <td>ADDRESS</td>\n      <td>BROOKLYN</td>\n      <td>Closed</td>\n      <td>The Department of Housing Preservation and Dev...</td>\n      <td>Unspecified</td>\n      <td>40.638696</td>\n      <td>-73.946969</td>\n    </tr>\n    <tr>\n      <th>15629899</th>\n      <td>2010-01-01 00:00:00</td>\n      <td>2010-01-16</td>\n      <td>PLUMBING</td>\n      <td>RESIDENTIAL BUILDING</td>\n      <td>11106.0</td>\n      <td>31-54 29 STREET</td>\n      <td>29 STREET</td>\n      <td>ADDRESS</td>\n      <td>ASTORIA</td>\n      <td>Closed</td>\n      <td>The Department of Housing Preservation and Dev...</td>\n      <td>Unspecified</td>\n      <td>40.764035</td>\n      <td>-73.925935</td>\n    </tr>\n    <tr>\n      <th>15630099</th>\n      <td>2010-01-01 00:00:00</td>\n      <td>2010-01-01</td>\n      <td>HEATING</td>\n      <td>RESIDENTIAL BUILDING</td>\n      <td>10466.0</td>\n      <td>1405 EAST 233 STREET</td>\n      <td>EAST 233 STREET</td>\n      <td>ADDRESS</td>\n      <td>BRONX</td>\n      <td>Closed</td>\n      <td>The Department of Housing Preservation and Dev...</td>\n      <td>Unspecified</td>\n      <td>40.888997</td>\n      <td>-73.836192</td>\n    </tr>\n    <tr>\n      <th>15630315</th>\n      <td>2010-01-01 00:00:00</td>\n      <td>2010-01-16</td>\n      <td>PLUMBING</td>\n      <td>RESIDENTIAL BUILDING</td>\n      <td>11106.0</td>\n      <td>31-54 29 STREET</td>\n      <td>29 STREET</td>\n      <td>ADDRESS</td>\n      <td>ASTORIA</td>\n      <td>Closed</td>\n      <td>The Department of Housing Preservation and Dev...</td>\n      <td>Unspecified</td>\n      <td>40.764035</td>\n      <td>-73.925935</td>\n    </tr>\n    <tr>\n      <th>15630431</th>\n      <td>2010-01-01 00:00:00</td>\n      <td>2010-01-02</td>\n      <td>HEATING</td>\n      <td>RESIDENTIAL BUILDING</td>\n      <td>11226.0</td>\n      <td>22 MARTENSE STREET</td>\n      <td>MARTENSE STREET</td>\n      <td>ADDRESS</td>\n      <td>BROOKLYN</td>\n      <td>Closed</td>\n      <td>More than one complaint was received for this ...</td>\n      <td>Unspecified</td>\n      <td>40.651236</td>\n      <td>-73.958293</td>\n    </tr>\n    <tr>\n      <th>...</th>\n      <td>...</td>\n      <td>...</td>\n      <td>...</td>\n      <td>...</td>\n      <td>...</td>\n      <td>...</td>\n      <td>...</td>\n      <td>...</td>\n      <td>...</td>\n      <td>...</td>\n      <td>...</td>\n      <td>...</td>\n      <td>...</td>\n      <td>...</td>\n    </tr>\n    <tr>\n      <th>45532039</th>\n      <td>2020-02-02 14:09:33</td>\n      <td>NaT</td>\n      <td>HEAT/HOT WATER</td>\n      <td>RESIDENTIAL BUILDING</td>\n      <td>11235.0</td>\n      <td>2750 HOMECREST AVENUE</td>\n      <td>HOMECREST AVENUE</td>\n      <td>ADDRESS</td>\n      <td>BROOKLYN</td>\n      <td>Open</td>\n      <td>The following complaint conditions are still o...</td>\n      <td>BROOKLYN</td>\n      <td>40.584298</td>\n      <td>-73.956290</td>\n    </tr>\n    <tr>\n      <th>45532040</th>\n      <td>2020-02-02 23:37:42</td>\n      <td>NaT</td>\n      <td>HEAT/HOT WATER</td>\n      <td>RESIDENTIAL BUILDING</td>\n      <td>11214.0</td>\n      <td>8301 BAY PARKWAY</td>\n      <td>BAY PARKWAY</td>\n      <td>ADDRESS</td>\n      <td>BROOKLYN</td>\n      <td>Open</td>\n      <td>The complaint you filed is a duplicate of a co...</td>\n      <td>BROOKLYN</td>\n      <td>40.603561</td>\n      <td>-73.992117</td>\n    </tr>\n    <tr>\n      <th>45532041</th>\n      <td>2020-02-02 16:15:59</td>\n      <td>NaT</td>\n      <td>HEAT/HOT WATER</td>\n      <td>RESIDENTIAL BUILDING</td>\n      <td>10031.0</td>\n      <td>3675 BROADWAY</td>\n      <td>BROADWAY</td>\n      <td>ADDRESS</td>\n      <td>NEW YORK</td>\n      <td>Open</td>\n      <td>The following complaint conditions are still o...</td>\n      <td>MANHATTAN</td>\n      <td>40.830944</td>\n      <td>-73.947166</td>\n    </tr>\n    <tr>\n      <th>45532042</th>\n      <td>2020-02-02 17:57:23</td>\n      <td>NaT</td>\n      <td>HEAT/HOT WATER</td>\n      <td>RESIDENTIAL BUILDING</td>\n      <td>10452.0</td>\n      <td>1441 EDWARD L GRANT HIGHWAY</td>\n      <td>EDWARD L GRANT HIGHWAY</td>\n      <td>ADDRESS</td>\n      <td>BRONX</td>\n      <td>Open</td>\n      <td>The complaint you filed is a duplicate of a co...</td>\n      <td>BRONX</td>\n      <td>40.843188</td>\n      <td>-73.922963</td>\n    </tr>\n    <tr>\n      <th>45532043</th>\n      <td>2020-02-02 16:49:04</td>\n      <td>NaT</td>\n      <td>HEAT/HOT WATER</td>\n      <td>RESIDENTIAL BUILDING</td>\n      <td>11214.0</td>\n      <td>1653 76 STREET</td>\n      <td>76 STREET</td>\n      <td>ADDRESS</td>\n      <td>BROOKLYN</td>\n      <td>Open</td>\n      <td>The following complaint conditions are still o...</td>\n      <td>BROOKLYN</td>\n      <td>40.614790</td>\n      <td>-73.999910</td>\n    </tr>\n  </tbody>\n</table>\n<p>6019843 rows × 14 columns</p>\n</div>"
     },
     "metadata": {},
     "execution_count": 7
    }
   ],
   "source": [
    "NY311_df"
   ]
  },
  {
   "cell_type": "code",
   "execution_count": 8,
   "metadata": {},
   "outputs": [
    {
     "output_type": "stream",
     "name": "stdout",
     "text": [
      "Complaints since:  2010-01-01 00:00:00\nComplaints till: 2020-02-02 21:42:28\n"
     ]
    }
   ],
   "source": [
    "print(\"Complaints since: \", NY311_df[\"Created Date\"].min())\n",
    "print(\"Complaints till:\", NY311_df[\"Closed Date\"].max())"
   ]
  },
  {
   "cell_type": "code",
   "execution_count": 50,
   "metadata": {},
   "outputs": [
    {
     "output_type": "stream",
     "name": "stdout",
     "text": [
      "Approximately 52800 incidents have a missing Incident Address\n"
     ]
    }
   ],
   "source": [
    "MIA = NY311_df[\"Incident Address\"].isnull().sum() \n",
    "def roundup(MIA):\n",
    "    return int(np.math.floor(MIA/100.0))*100\n",
    "print(\"Approximately\", roundup(MIA), \"incidents have a missing Incident Address\")"
   ]
  },
  {
   "cell_type": "code",
   "execution_count": 51,
   "metadata": {},
   "outputs": [
    {
     "output_type": "stream",
     "name": "stdout",
     "text": [
      "26 Valid ZIP Codes exist in the Bronx PLUTO dataset\n"
     ]
    }
   ],
   "source": [
    "house_df1 = pd.read_csv(\"PLUTO_for_WEB/BX_18v1.csv\")\n",
    "print(house_df1[\"ZipCode\"].nunique(), \"Valid ZIP Codes exist in the Bronx PLUTO dataset\")"
   ]
  },
  {
   "cell_type": "code",
   "execution_count": 52,
   "metadata": {},
   "outputs": [
    {
     "output_type": "stream",
     "name": "stdout",
     "text": [
      "65 Valid ZIP Codes exist in the Queens PLUTO dataset\n"
     ]
    }
   ],
   "source": [
    "house_df2 = pd.read_csv(\"PLUTO_for_WEB/QN_18v1.csv\")\n",
    "print(house_df2[\"ZipCode\"].nunique(), \"Valid ZIP Codes exist in the Queens PLUTO dataset\")"
   ]
  },
  {
   "cell_type": "code",
   "execution_count": 59,
   "metadata": {},
   "outputs": [
    {
     "output_type": "stream",
     "name": "stdout",
     "text": [
      "HEAT/HOT WATER            1261574\n",
      "HEATING                    887850\n",
      "PLUMBING                   711130\n",
      "GENERAL CONSTRUCTION       500863\n",
      "UNSANITARY CONDITION       451643\n",
      "PAINT - PLASTER            361257\n",
      "PAINT/PLASTER              346438\n",
      "ELECTRIC                   307310\n",
      "NONCONST                   260890\n",
      "DOOR/WINDOW                205278\n",
      "WATER LEAK                 193631\n",
      "GENERAL                    151308\n",
      "FLOORING/STAIRS            137402\n",
      "APPLIANCE                  112831\n",
      "HPD Literature Request      52824\n",
      "SAFETY                      51529\n",
      "OUTSIDE BUILDING             7142\n",
      "ELEVATOR                     6725\n",
      "Unsanitary Condition         5499\n",
      "CONSTRUCTION                 5078\n",
      "General                      1163\n",
      "Safety                        424\n",
      "STRUCTURAL                     16\n",
      "Plumbing                       11\n",
      "AGENCY                          9\n",
      "VACANT APARTMENT                6\n",
      "Outside Building                6\n",
      "Appliance                       4\n",
      "Electric                        1\n",
      "Mold                            1\n",
      "Name: Complaint Type, dtype: int64\n",
      "There are 28 complaint types\n"
     ]
    }
   ],
   "source": [
    "#No. of Complaint Types\n",
    "print(NY311_df[\"Complaint Type\"].value_counts())\n",
    "print(\"There are\", NY311_df[\"Complaint Type\"].value_counts().nunique(), \"complaint types\")"
   ]
  },
  {
   "cell_type": "code",
   "execution_count": null,
   "metadata": {},
   "outputs": [],
   "source": []
  }
 ]
}